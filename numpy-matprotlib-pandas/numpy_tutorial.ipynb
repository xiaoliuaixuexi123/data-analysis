{
 "cells": [
  {
   "cell_type": "markdown",
   "source": [
    "# Numpy库学习\n",
    "## Numpy库是什么\n",
    "NumPy是Python数值库，是Python编程中最有用的科学库之一。它支持大型多维数组对象和各种工具。各种其他的库，如Pandas、Matplotlib和Scikit-learn，都建立在这个令人惊叹的库之上。\n",
    "\n",
    "数组是元素/值的集合，可以有一个或多个维度。一维数组称为向量，二维数组称为矩阵。\n",
    "\n",
    "NumPy数组称为ndarray或N维数组，它们存储相同类型和大小的元素。它以其高性能而闻名，并在数组规模不断扩大时提供高效的存储和数据操作。\n",
    "\n",
    "下载numpy\n",
    "`\n",
    "pip install numpy -i https://pypi.tuna.tsinghua.edu.cn/simple\n",
    "`\n",
    "\n",
    "导入numpy\n",
    "`\n",
    "import numpy as np\n",
    "`"
   ],
   "metadata": {
    "collapsed": false
   }
  },
  {
   "cell_type": "markdown",
   "source": [
    "## 创建numpy数组\n",
    "### 基本的ndarray\n",
    "考虑到NumPy数组解决的复杂问题，它很容易创建。要创建一个非常基本的ndarray，可以使用np.array()方法。你只需将数组的值作为列表传递："
   ],
   "metadata": {
    "collapsed": false
   }
  },
  {
   "cell_type": "code",
   "execution_count": 21,
   "outputs": [
    {
     "name": "stdout",
     "output_type": "stream",
     "text": [
      "[1 2 3 4]\n",
      "[1, 2, 3, 4]\n"
     ]
    }
   ],
   "source": [
    "import numpy as np\n",
    "print(np.array([1, 2, 3, 4]))  # 没有逗号\n",
    "print([1, 2, 3, 4])  # 列表有逗号"
   ],
   "metadata": {
    "collapsed": false,
    "ExecuteTime": {
     "start_time": "2024-03-14T18:20:22.383165Z",
     "end_time": "2024-03-14T18:20:22.883440Z"
    }
   }
  },
  {
   "cell_type": "markdown",
   "source": [
    "此数组包含整数值。可以在dtype中指定数据类型"
   ],
   "metadata": {
    "collapsed": false
   }
  },
  {
   "cell_type": "markdown",
   "source": [
    "np.array([1, 2, 3, 4], dtype=np.float32)"
   ],
   "metadata": {
    "collapsed": false
   }
  },
  {
   "cell_type": "markdown",
   "source": [
    "由于NumPy数组只能包含同构数据类型，因此如果类型不匹配，则将向上转换值："
   ],
   "metadata": {
    "collapsed": false
   }
  },
  {
   "cell_type": "code",
   "execution_count": 22,
   "outputs": [
    {
     "data": {
      "text/plain": "array([1., 2., 3., 4.])"
     },
     "execution_count": 22,
     "metadata": {},
     "output_type": "execute_result"
    }
   ],
   "source": [
    "np.array([1, 2.0, 3, 4])  # 都转换成浮点数"
   ],
   "metadata": {
    "collapsed": false,
    "ExecuteTime": {
     "start_time": "2024-03-14T18:20:22.447682Z",
     "end_time": "2024-03-14T18:20:23.404885Z"
    }
   }
  },
  {
   "cell_type": "markdown",
   "source": [
    "Numpy数组也可以是多维的"
   ],
   "metadata": {
    "collapsed": false
   }
  },
  {
   "cell_type": "code",
   "execution_count": 23,
   "outputs": [
    {
     "data": {
      "text/plain": "array([[1, 2, 3, 4],\n       [5, 6, 7, 8]])"
     },
     "execution_count": 23,
     "metadata": {},
     "output_type": "execute_result"
    }
   ],
   "source": [
    "np.array([[1, 2, 3, 4], [5, 6, 7, 8]])  # 2x4矩阵"
   ],
   "metadata": {
    "collapsed": false,
    "ExecuteTime": {
     "start_time": "2024-03-14T18:20:22.466941Z",
     "end_time": "2024-03-14T18:20:23.509147Z"
    }
   }
  },
  {
   "cell_type": "markdown",
   "source": [
    "全零数组\n",
    "NumPy允许你使用 np.zeros()方法。你只需传递所需数组的形状："
   ],
   "metadata": {
    "collapsed": false
   }
  },
  {
   "cell_type": "code",
   "execution_count": 24,
   "outputs": [
    {
     "data": {
      "text/plain": "array([0., 0., 0., 0., 0.])"
     },
     "execution_count": 24,
     "metadata": {},
     "output_type": "execute_result"
    }
   ],
   "source": [
    "np.zeros(5)"
   ],
   "metadata": {
    "collapsed": false,
    "ExecuteTime": {
     "start_time": "2024-03-14T18:20:22.489029Z",
     "end_time": "2024-03-14T18:20:23.512153Z"
    }
   }
  },
  {
   "cell_type": "markdown",
   "source": [
    "上面一个是一维数组，下面一个是二维数组："
   ],
   "metadata": {
    "collapsed": false
   }
  },
  {
   "cell_type": "code",
   "execution_count": 25,
   "outputs": [
    {
     "data": {
      "text/plain": "array([[0., 0., 0.],\n       [0., 0., 0.],\n       [0., 0., 0.],\n       [0., 0., 0.],\n       [0., 0., 0.]])"
     },
     "execution_count": 25,
     "metadata": {},
     "output_type": "execute_result"
    }
   ],
   "source": [
    "np.zeros((5,3))  # 5x3全零数组"
   ],
   "metadata": {
    "collapsed": false,
    "ExecuteTime": {
     "start_time": "2024-03-14T18:20:22.512882Z",
     "end_time": "2024-03-14T18:20:23.512462Z"
    }
   }
  },
  {
   "cell_type": "markdown",
   "source": [
    "全一数组\n",
    "\n",
    "你还可以使用 np.ones()方法获得全一数组："
   ],
   "metadata": {
    "collapsed": false
   }
  },
  {
   "cell_type": "code",
   "execution_count": 26,
   "outputs": [
    {
     "data": {
      "text/plain": "array([1, 1, 1, 1, 1])"
     },
     "execution_count": 26,
     "metadata": {},
     "output_type": "execute_result"
    }
   ],
   "source": [
    "np.ones(5, dtype=np.int32)"
   ],
   "metadata": {
    "collapsed": false,
    "ExecuteTime": {
     "start_time": "2024-03-14T18:20:22.536983Z",
     "end_time": "2024-03-14T18:20:23.613395Z"
    }
   }
  },
  {
   "cell_type": "markdown",
   "source": [
    "ndarray中的随机数\n",
    "创建ndarray的另一个非常常用的方法是随机随机数方法。它创建一个给定形状的数组，其随机值来自[0,1]："
   ],
   "metadata": {
    "collapsed": false
   }
  },
  {
   "cell_type": "code",
   "execution_count": 27,
   "outputs": [
    {
     "data": {
      "text/plain": "array([[0.20119973, 0.70119451, 0.80526132],\n       [0.56327465, 0.64132057, 0.34364813]])"
     },
     "execution_count": 27,
     "metadata": {},
     "output_type": "execute_result"
    }
   ],
   "source": [
    "np.random.rand(2,3)"
   ],
   "metadata": {
    "collapsed": false,
    "ExecuteTime": {
     "start_time": "2024-03-14T18:20:22.565890Z",
     "end_time": "2024-03-14T18:20:23.691366Z"
    }
   }
  },
  {
   "cell_type": "markdown",
   "source": [
    "定制的数组\n",
    "\n",
    "或者，实际上，可以使用 np.full()方法。只需传入所需数组的形状和所需的值"
   ],
   "metadata": {
    "collapsed": false
   }
  },
  {
   "cell_type": "code",
   "execution_count": 28,
   "outputs": [
    {
     "data": {
      "text/plain": "array([[7, 7],\n       [7, 7]])"
     },
     "execution_count": 28,
     "metadata": {},
     "output_type": "execute_result"
    }
   ],
   "source": [
    "np.full((2,2),7)  # 2x2矩阵，值全为7"
   ],
   "metadata": {
    "collapsed": false,
    "ExecuteTime": {
     "start_time": "2024-03-14T18:20:22.651181Z",
     "end_time": "2024-03-14T18:20:23.692372Z"
    }
   }
  },
  {
   "cell_type": "markdown",
   "source": [
    "NumPy的Imatrix\n",
    "\n",
    "另一个伟大的方法是np.eye()返回一个数组，其对角线上有1，其他地方都有0。\n",
    "\n",
    "一个单位矩阵是一个正方形矩阵，它的主对角线上有1，其他地方都有0。下面是形状为3x 3的单位矩阵。\n",
    "\n",
    "注：正方形矩阵是N x N的形状。这意味着它具有相同数量的行和列。"
   ],
   "metadata": {
    "collapsed": false
   }
  },
  {
   "cell_type": "code",
   "execution_count": 29,
   "outputs": [
    {
     "data": {
      "text/plain": "array([[1., 0., 0.],\n       [0., 1., 0.],\n       [0., 0., 1.]])"
     },
     "execution_count": 29,
     "metadata": {},
     "output_type": "execute_result"
    }
   ],
   "source": [
    "np.eye(3)"
   ],
   "metadata": {
    "collapsed": false,
    "ExecuteTime": {
     "start_time": "2024-03-14T18:20:22.685738Z",
     "end_time": "2024-03-14T18:20:23.714389Z"
    }
   }
  },
  {
   "cell_type": "markdown",
   "source": [
    "等间距的ndarray\n",
    "\n",
    "你可以使用np.arange()方法："
   ],
   "metadata": {
    "collapsed": false
   }
  },
  {
   "cell_type": "code",
   "execution_count": 30,
   "outputs": [
    {
     "data": {
      "text/plain": "array([0, 1, 2, 3, 4])"
     },
     "execution_count": 30,
     "metadata": {},
     "output_type": "execute_result"
    }
   ],
   "source": [
    "np.arange(5)"
   ],
   "metadata": {
    "collapsed": false,
    "ExecuteTime": {
     "start_time": "2024-03-14T18:20:22.708309Z",
     "end_time": "2024-03-14T18:20:23.717940Z"
    }
   }
  },
  {
   "cell_type": "markdown",
   "source": [
    "通过分别传递三个数字作为这些值的参数，可以显式定义值间隔的开始、结束和步长。这里要注意的一点是，间隔定义为[开始，结束)，其中最后一个数字将不包含在数组中："
   ],
   "metadata": {
    "collapsed": false
   }
  },
  {
   "cell_type": "code",
   "execution_count": 31,
   "outputs": [
    {
     "data": {
      "text/plain": "array([2, 4, 6, 8])"
     },
     "execution_count": 31,
     "metadata": {},
     "output_type": "execute_result"
    }
   ],
   "source": [
    "np.arange(2, 10, 2)"
   ],
   "metadata": {
    "collapsed": false,
    "ExecuteTime": {
     "start_time": "2024-03-14T18:21:24.296159Z",
     "end_time": "2024-03-14T18:21:24.435673Z"
    }
   }
  },
  {
   "cell_type": "markdown",
   "source": [
    "另一个类似的功能是 np.linspace()，但它将从间隔中获取需要检索的样本数，而不是步长。这里要注意的一点是，最后一个数字包含在返回的值中，这与np.arange()不同"
   ],
   "metadata": {
    "collapsed": false
   }
  },
  {
   "cell_type": "code",
   "execution_count": 32,
   "outputs": [
    {
     "data": {
      "text/plain": "array([0.        , 0.11111111, 0.22222222, 0.33333333, 0.44444444,\n       0.55555556, 0.66666667, 0.77777778, 0.88888889, 1.        ])"
     },
     "execution_count": 32,
     "metadata": {},
     "output_type": "execute_result"
    }
   ],
   "source": [
    "np.linspace(0, 1, 10)"
   ],
   "metadata": {
    "collapsed": false,
    "ExecuteTime": {
     "start_time": "2024-03-14T18:25:10.209804Z",
     "end_time": "2024-03-14T18:25:10.548456Z"
    }
   }
  },
  {
   "cell_type": "markdown",
   "source": [
    "### Numpy数组的形状与塑造\n",
    "创建了ndarray之后，接下来要做的是检查ndarray的轴数、形状和大小。\n",
    "\n",
    "NumPy数组的维数\n",
    "\n",
    "可以使用ndims属性轻松确定NumPy数组的维数或轴数："
   ],
   "metadata": {
    "collapsed": false
   }
  },
  {
   "cell_type": "code",
   "execution_count": 33,
   "outputs": [
    {
     "name": "stdout",
     "output_type": "stream",
     "text": [
      "Array : \n",
      " [[ 5 10 15]\n",
      " [20 25 20]]\n",
      "Dimensions : \n",
      " 2\n"
     ]
    }
   ],
   "source": [
    "# 轴数\n",
    "a = np.array([[5,10,15],[20,25,20]])\n",
    "print('Array :','\\n',a)\n",
    "print('Dimensions :','\\n',a.ndim)"
   ],
   "metadata": {
    "collapsed": false,
    "ExecuteTime": {
     "start_time": "2024-03-14T18:29:15.142335Z",
     "end_time": "2024-03-14T18:29:15.302635Z"
    }
   }
  },
  {
   "cell_type": "markdown",
   "source": [
    "NumPy数组的形状\n",
    "\n",
    "形状是NumPy数组的一个属性，它显示每个维度上有多少行元素。你可以进一步索引ndarray返回的形状，以便沿每个维度获取值："
   ],
   "metadata": {
    "collapsed": false
   }
  },
  {
   "cell_type": "code",
   "execution_count": 35,
   "outputs": [
    {
     "name": "stdout",
     "output_type": "stream",
     "text": [
      "Array : \n",
      " [[1 2 3]\n",
      " [4 5 6]]\n",
      "Shape : \n",
      " (2, 3)\n",
      "Rows =  2\n",
      "Columns =  3\n"
     ]
    }
   ],
   "source": [
    "a = np.array([[1,2,3],[4,5,6]])\n",
    "print('Array :','\\n',a)\n",
    "print('Shape :','\\n',a.shape)  # 返回列表，sharp[0]为行，sharp[1]为列\n",
    "print('Rows = ',a.shape[0])\n",
    "print('Columns = ',a.shape[1])"
   ],
   "metadata": {
    "collapsed": false,
    "ExecuteTime": {
     "start_time": "2024-03-14T18:31:12.505874Z",
     "end_time": "2024-03-14T18:31:12.569955Z"
    }
   }
  },
  {
   "cell_type": "markdown",
   "source": [
    "NumPy数组的大小\n",
    "\n",
    "可以使用size属性确定数组中有多少值。它只是将行数乘以ndarray中的列数：\n",
    "\n"
   ],
   "metadata": {
    "collapsed": false
   }
  },
  {
   "cell_type": "code",
   "execution_count": 37,
   "outputs": [
    {
     "name": "stdout",
     "output_type": "stream",
     "text": [
      "size of a is 6\n"
     ]
    }
   ],
   "source": [
    "a = np.array([[1, 2, 3], [4, 5, 6]])\n",
    "print('size of a is', a.size)"
   ],
   "metadata": {
    "collapsed": false,
    "ExecuteTime": {
     "start_time": "2024-03-14T18:32:47.261590Z",
     "end_time": "2024-03-14T18:32:47.310532Z"
    }
   }
  },
  {
   "cell_type": "markdown",
   "source": [
    "重塑NumPy数组\n",
    "\n",
    "可以使用np.reshape()方法。它在不更改ndarray中的数据的情况下更改ndarray的形状："
   ],
   "metadata": {
    "collapsed": false
   }
  },
  {
   "cell_type": "code",
   "execution_count": 38,
   "outputs": [
    {
     "data": {
      "text/plain": "array([[1, 2],\n       [3, 4]])"
     },
     "execution_count": 38,
     "metadata": {},
     "output_type": "execute_result"
    }
   ],
   "source": [
    "a = np.array([1, 2, 3, 4])\n",
    "np.reshape(a, (2, 2))"
   ],
   "metadata": {
    "collapsed": false,
    "ExecuteTime": {
     "start_time": "2024-03-14T18:34:56.105465Z",
     "end_time": "2024-03-14T18:34:56.396277Z"
    }
   }
  },
  {
   "cell_type": "markdown",
   "source": [
    "在这里，我将ndarray从一维重塑为二维ndarray。\n",
    "\n",
    "重塑时，如果你不确定任何轴的形状，只需输入-1。当NumPy看到-1时，它会自动计算形状："
   ],
   "metadata": {
    "collapsed": false
   }
  },
  {
   "cell_type": "code",
   "execution_count": 39,
   "outputs": [
    {
     "name": "stdout",
     "output_type": "stream",
     "text": [
      "Three rows : \n",
      " [[ 3  6]\n",
      " [ 9 12]\n",
      " [18 24]]\n",
      "Three columns : \n",
      " [[ 3  6  9]\n",
      " [12 18 24]]\n"
     ]
    }
   ],
   "source": [
    "a = np.array([3,6,9,12,18,24])\n",
    "print('Three rows :','\\n',np.reshape(a,(3,-1)))\n",
    "print('Three columns :','\\n',np.reshape(a,(-1,3)))"
   ],
   "metadata": {
    "collapsed": false,
    "ExecuteTime": {
     "start_time": "2024-03-14T18:35:34.705893Z",
     "end_time": "2024-03-14T18:35:34.910979Z"
    }
   }
  },
  {
   "cell_type": "markdown",
   "source": [
    "展开NumPy数组\n",
    "\n",
    "有时，当你有多维数组并希望将其折叠为一维数组时，可以使用 flatten()方法或ravel()方法：\n",
    "但是flatten() 和ravel()之间的一个重要区别是前者返回原始数组的副本，而后者返回对原始数组的引用。这意味着对ravel()返回的数组所做的任何更改也将反映在原始数组中，而flatten()则不会这样。"
   ],
   "metadata": {
    "collapsed": false
   }
  },
  {
   "cell_type": "code",
   "execution_count": 43,
   "outputs": [
    {
     "name": "stdout",
     "output_type": "stream",
     "text": [
      "Original shape : (2, 2)\n",
      "Array : \n",
      " [[1. 1.]\n",
      " [1. 1.]]\n",
      "Shape after flatten : (4,)\n",
      "Array : \n",
      " [1. 1. 1. 1.]\n",
      "Shape after ravel : (4,)\n",
      "Array : \n",
      " [1. 1. 1. 1.]\n",
      "Original shape : (2, 2)\n",
      "Array : \n",
      " [[1. 1.]\n",
      " [1. 1.]]\n"
     ]
    }
   ],
   "source": [
    "a = np.ones((2,2))\n",
    "b = a.flatten()\n",
    "c = a.ravel()\n",
    "print('Original shape :', a.shape)\n",
    "print('Array :','\\n', a)\n",
    "print('Shape after flatten :',b.shape)\n",
    "print('Array :','\\n', b)\n",
    "print('Shape after ravel :',c.shape)\n",
    "print('Array :','\\n', c)"
   ],
   "metadata": {
    "collapsed": false,
    "ExecuteTime": {
     "start_time": "2024-03-14T18:40:03.841696Z",
     "end_time": "2024-03-14T18:40:03.906713Z"
    }
   }
  },
  {
   "cell_type": "markdown",
   "source": [
    "NumPy数组的转置\n",
    "\n",
    "NumPy的另一个非常有趣的重塑方法是transpose()方法。它接受输入数组并用列值交换行，用行值交换列值："
   ],
   "metadata": {
    "collapsed": false
   }
  },
  {
   "cell_type": "code",
   "execution_count": 45,
   "outputs": [
    {
     "name": "stdout",
     "output_type": "stream",
     "text": [
      "[[1 4]\n",
      " [2 5]\n",
      " [3 6]]\n"
     ]
    }
   ],
   "source": [
    "a = np.array([[1, 2, 3], [4, 5 ,6]])\n",
    "AT = np.transpose(a)\n",
    "print(AT)"
   ],
   "metadata": {
    "collapsed": false,
    "ExecuteTime": {
     "start_time": "2024-03-14T18:42:07.887218Z",
     "end_time": "2024-03-14T18:42:08.020203Z"
    }
   }
  },
  {
   "cell_type": "markdown",
   "source": [
    "### 扩展和压缩数组\n",
    "展开NumPy数组\n",
    "\n",
    "通过提供要展开的数组和轴，可以使用expand_dims()方法将新轴添加到数组中"
   ],
   "metadata": {
    "collapsed": false
   }
  },
  {
   "cell_type": "code",
   "execution_count": 46,
   "outputs": [
    {
     "name": "stdout",
     "output_type": "stream",
     "text": [
      "Original: \n",
      " Shape (3,) \n",
      " [1 2 3]\n",
      "Expand along columns: \n",
      " Shape (1, 3) \n",
      " [[1 2 3]]\n",
      "Expand along rows: \n",
      " Shape (3, 1) \n",
      " [[1]\n",
      " [2]\n",
      " [3]]\n"
     ]
    }
   ],
   "source": [
    "a = np.array([1, 2, 3])\n",
    "b = np.expand_dims(a, axis=0)\n",
    "c = np.expand_dims(a, axis=1)\n",
    "print('Original:','\\n','Shape',a.shape,'\\n',a)\n",
    "print('Expand along columns:','\\n','Shape',b.shape,'\\n',b)\n",
    "print('Expand along rows:','\\n','Shape',c.shape,'\\n',c)"
   ],
   "metadata": {
    "collapsed": false,
    "ExecuteTime": {
     "start_time": "2024-03-14T18:47:52.345318Z",
     "end_time": "2024-03-14T18:47:52.385008Z"
    }
   }
  },
  {
   "cell_type": "markdown",
   "source": [
    "压缩NumPy数组\n",
    "\n",
    "另一方面，如果希望减小数组的轴，请使用squeeze()方法。它将删除具有单个条目的轴。这意味着，如果创建了一个2 x 2 x 1矩阵，则squeze()将从矩阵中删除第三个维度："
   ],
   "metadata": {
    "collapsed": false
   }
  },
  {
   "cell_type": "code",
   "execution_count": 51,
   "outputs": [
    {
     "name": "stdout",
     "output_type": "stream",
     "text": [
      "Original \n",
      " Shape (1, 2, 3) \n",
      " [[[1 2 3]\n",
      "  [4 5 6]]]\n",
      "Squeeze array: \n",
      " Shape (2, 3) \n",
      " [[1 2 3]\n",
      " [4 5 6]]\n"
     ]
    }
   ],
   "source": [
    "a = np.array([[[1, 2, 3], [4, 5, 6]]])\n",
    "b = np.squeeze(a, axis=0)\n",
    "print('Original','\\n','Shape',a.shape,'\\n',a)\n",
    "print('Squeeze array:','\\n','Shape',b.shape,'\\n',b)"
   ],
   "metadata": {
    "collapsed": false,
    "ExecuteTime": {
     "start_time": "2024-03-14T18:53:48.076592Z",
     "end_time": "2024-03-14T18:53:48.076592Z"
    }
   }
  },
  {
   "cell_type": "markdown",
   "source": [
    "### Numpy数组切片与索引\n",
    "到目前为止，我们已经看到了如何创建一个NumPy数组以及如何处理它的形状。在本节中，我们将看到如何使用索引和切片从数组中提取特定值。\n",
    "\n",
    "一维数组的切片\n",
    "\n",
    "切片意味着从一个索引检索元素到另一个索引。我们要做的就是像这样[start: end]\n",
    "\n",
    "然而，你也可以定义步长。例如你可以将步长定义为2，这意味着让元素远离当前索引2个位置进行取值。\n",
    "\n",
    "将所有这些内容合并到一个索引中看起来像这样： [start：end：step-size]。"
   ],
   "metadata": {
    "collapsed": false
   }
  },
  {
   "cell_type": "code",
   "execution_count": 59,
   "outputs": [
    {
     "name": "stdout",
     "output_type": "stream",
     "text": [
      "[1 3]\n",
      "[2 4]\n"
     ]
    }
   ],
   "source": [
    "a = np.array([1,2,3,4,5,6])\n",
    "print(a[0:3:2])\n",
    "print(a[1:5:2])"
   ],
   "metadata": {
    "collapsed": false,
    "ExecuteTime": {
     "start_time": "2024-03-14T19:03:34.852874Z",
     "end_time": "2024-03-14T19:03:34.926020Z"
    }
   }
  },
  {
   "cell_type": "markdown",
   "source": [
    "如果不指定起始索引或结束索引，则默认值分别为0或数组大小。默认情况下步长为1。"
   ],
   "metadata": {
    "collapsed": false
   }
  },
  {
   "cell_type": "code",
   "execution_count": 60,
   "outputs": [
    {
     "name": "stdout",
     "output_type": "stream",
     "text": [
      "[1 3 5]\n",
      "[2 4 6]\n",
      "[2 3 4 5 6]\n"
     ]
    }
   ],
   "source": [
    "a = np.array([1,2,3,4,5,6])\n",
    "print(a[:6:2])\n",
    "print(a[1::2])\n",
    "print(a[1:6:])"
   ],
   "metadata": {
    "collapsed": false,
    "ExecuteTime": {
     "start_time": "2024-03-14T19:04:13.609817Z",
     "end_time": "2024-03-14T19:04:14.181634Z"
    }
   }
  },
  {
   "cell_type": "markdown",
   "source": [
    "二维数组切片\n",
    "\n",
    "现在，二维数组有行和列，所以对二维数组进行切片会有点困难。但是一旦你理解了它，你就可以分割任何维度数组！\n",
    "\n",
    "在学习如何分割二维数组之前，让我们先看看如何从二维数组中检索元素："
   ],
   "metadata": {
    "collapsed": false
   }
  },
  {
   "cell_type": "code",
   "execution_count": 61,
   "outputs": [
    {
     "name": "stdout",
     "output_type": "stream",
     "text": [
      "1\n",
      "6\n",
      "4\n"
     ]
    }
   ],
   "source": [
    "a = np.array([[1,2,3],\n",
    "[4,5,6]])\n",
    "print(a[0,0])\n",
    "print(a[1,2])\n",
    "print(a[1,0])"
   ],
   "metadata": {
    "collapsed": false,
    "ExecuteTime": {
     "start_time": "2024-03-14T19:05:43.736648Z",
     "end_time": "2024-03-14T19:05:43.947366Z"
    }
   }
  },
  {
   "cell_type": "markdown",
   "source": [
    "在这里，我们提供了行值和列值来标识要提取的元素。在一维数组中，我们只提供列值，因为只有一行。\n",
    "\n",
    "因此，要对二维数组进行切片，需要同时提到行和列的切片："
   ],
   "metadata": {
    "collapsed": false
   }
  },
  {
   "cell_type": "code",
   "execution_count": 62,
   "outputs": [
    {
     "name": "stdout",
     "output_type": "stream",
     "text": [
      "First row values : \n",
      " [[1 2 3]]\n",
      "Alternate values from first row: \n",
      " [[1 3]]\n",
      "Second column values : \n",
      " [[2]\n",
      " [5]]\n",
      "Arbitrary values : \n",
      " [[2 3]]\n"
     ]
    }
   ],
   "source": [
    "a = np.array([[1,2,3],[4,5,6]])\n",
    "# 打印第一行值\n",
    "print('First row values :','\\n',a[0:1,:])\n",
    "# 具有列的步长\n",
    "print('Alternate values from first row:','\\n',a[0:1,::2])\n",
    "#\n",
    "print('Second column values :','\\n',a[:,1::2])\n",
    "print('Arbitrary values :','\\n',a[0:1,1:3])"
   ],
   "metadata": {
    "collapsed": false,
    "ExecuteTime": {
     "start_time": "2024-03-14T19:18:35.021179Z",
     "end_time": "2024-03-14T19:18:35.331719Z"
    }
   }
  },
  {
   "cell_type": "markdown",
   "source": [
    "三维数组切片\n",
    "\n",
    "到目前为止我们还没有看到三维数组。首先让我们想象一下三维数组的样子：\n",
    "\n"
   ],
   "metadata": {
    "collapsed": false
   }
  },
  {
   "cell_type": "code",
   "execution_count": 63,
   "outputs": [
    {
     "name": "stdout",
     "output_type": "stream",
     "text": [
      "[[[ 1  2]\n",
      "  [ 3  4]\n",
      "  [ 5  6]]\n",
      "\n",
      " [[ 7  8]\n",
      "  [ 9 10]\n",
      "  [11 12]]\n",
      "\n",
      " [[13 14]\n",
      "  [15 16]\n",
      "  [17 18]]]\n"
     ]
    }
   ],
   "source": [
    "a = np.array([[[1,2],[3,4],[5,6]],# 第一个轴数组\n",
    "[[7,8],[9,10],[11,12]],# 第二个轴数组\n",
    "[[13,14],[15,16],[17,18]]])# 第三个轴数组\n",
    "# 3-D array\n",
    "print(a)"
   ],
   "metadata": {
    "collapsed": false,
    "ExecuteTime": {
     "start_time": "2024-03-14T19:20:29.354571Z",
     "end_time": "2024-03-14T19:20:29.702318Z"
    }
   }
  },
  {
   "cell_type": "markdown",
   "source": [
    "除了行和列之外，在二维数组中，三维数组还有一个深度轴，在这个深度轴上，它将一个二维数组放在另一个数组后面。所以，当你在切片一个三维数组时，你还需要提到你要切片哪个二维数组。这通常作为索引中的第一个值出现："
   ],
   "metadata": {
    "collapsed": false
   }
  },
  {
   "cell_type": "code",
   "execution_count": 64,
   "outputs": [
    {
     "name": "stdout",
     "output_type": "stream",
     "text": [
      "First array, first row, first column value : \n",
      " 1\n",
      "First array last column : \n",
      " [2 4 6]\n",
      "First two rows for second and third arrays : \n",
      " [[[ 7  8]\n",
      "  [ 9 10]]\n",
      "\n",
      " [[13 14]\n",
      "  [15 16]]]\n"
     ]
    }
   ],
   "source": [
    "# value\n",
    "print('First array, first row, first column value :','\\n',a[0,0,0])\n",
    "print('First array last column :','\\n',a[0,:,1])\n",
    "print('First two rows for second and third arrays :','\\n',a[1:,0:2,0:2])"
   ],
   "metadata": {
    "collapsed": false,
    "ExecuteTime": {
     "start_time": "2024-03-14T19:23:25.389492Z",
     "end_time": "2024-03-14T19:23:25.818513Z"
    }
   }
  },
  {
   "cell_type": "markdown",
   "source": [
    "NumPy数组的负切片\n",
    "\n",
    "对数组进行切片的一个有趣的方法是使用负切片。负切片从末尾而不是开头打印元素。"
   ],
   "metadata": {
    "collapsed": false
   }
  },
  {
   "cell_type": "code",
   "execution_count": 65,
   "outputs": [
    {
     "name": "stdout",
     "output_type": "stream",
     "text": [
      "[ 5 10]\n"
     ]
    }
   ],
   "source": [
    "a = np.array([[1,2,3,4,5],\n",
    "[6,7,8,9,10]])\n",
    "print(a[:,-1])"
   ],
   "metadata": {
    "collapsed": false,
    "ExecuteTime": {
     "start_time": "2024-03-14T19:25:46.250071Z",
     "end_time": "2024-03-14T19:25:46.897677Z"
    }
   }
  },
  {
   "cell_type": "code",
   "execution_count": 66,
   "outputs": [
    {
     "name": "stdout",
     "output_type": "stream",
     "text": [
      "[[ 5  4]\n",
      " [10  9]]\n"
     ]
    }
   ],
   "source": [
    "print(a[:,-1:-3:-1])"
   ],
   "metadata": {
    "collapsed": false,
    "ExecuteTime": {
     "start_time": "2024-03-14T19:27:11.842298Z",
     "end_time": "2024-03-14T19:27:12.038098Z"
    }
   }
  },
  {
   "cell_type": "markdown",
   "source": [
    "可以使用flip()方法来反转ndarray。"
   ],
   "metadata": {
    "collapsed": false
   }
  },
  {
   "cell_type": "code",
   "execution_count": 67,
   "outputs": [
    {
     "name": "stdout",
     "output_type": "stream",
     "text": [
      "Original array : \n",
      " [[ 1  2  3  4  5]\n",
      " [ 6  7  8  9 10]]\n",
      "Reversed array vertically : \n",
      " [[ 5  4  3  2  1]\n",
      " [10  9  8  7  6]]\n",
      "Reversed array horizontally : \n",
      " [[ 6  7  8  9 10]\n",
      " [ 1  2  3  4  5]]\n"
     ]
    }
   ],
   "source": [
    "a = np.array([[1,2,3,4,5],\n",
    "[6,7,8,9,10]])\n",
    "print('Original array :','\\n',a)\n",
    "print('Reversed array vertically :','\\n',np.flip(a,axis=1))\n",
    "print('Reversed array horizontally :','\\n',np.flip(a,axis=0))"
   ],
   "metadata": {
    "collapsed": false,
    "ExecuteTime": {
     "start_time": "2024-03-14T19:28:06.773774Z",
     "end_time": "2024-03-14T19:28:06.879688Z"
    }
   }
  },
  {
   "cell_type": "markdown",
   "source": [
    "### 堆叠和级联Numpy数组\n",
    "堆叠ndarrays\n",
    "\n",
    "可以通过组合现有数组来创建新数组。你可以通过两种方式来完成：\n",
    "\n",
    "* 使用vstack()方法垂直组合数组（即沿行），从而增加结果数组中的行数\n",
    "* 或者使用hstack()以水平方式（即沿列）组合数组，从而增加结果数组中的列数"
   ],
   "metadata": {
    "collapsed": false
   }
  },
  {
   "cell_type": "code",
   "execution_count": 69,
   "outputs": [
    {
     "name": "stdout",
     "output_type": "stream",
     "text": [
      "Array 1 : \n",
      " [0 1 2 3 4]\n",
      "Array 2 : \n",
      " [5 6 7 8 9]\n",
      "Vertical stacking : \n",
      " [[0 1 2 3 4]\n",
      " [5 6 7 8 9]]\n",
      "Horizontal stacking : \n",
      " [0 1 2 3 4 5 6 7 8 9]\n"
     ]
    }
   ],
   "source": [
    "# 组合数组的轴应该是相同的\n",
    "a = np.arange(0,5)\n",
    "b = np.arange(5,10)\n",
    "print('Array 1 :','\\n',a)\n",
    "print('Array 2 :','\\n',b)\n",
    "print('Vertical stacking :','\\n',np.vstack((a,b)))\n",
    "print('Horizontal stacking :','\\n',np.hstack((a,b)))"
   ],
   "metadata": {
    "collapsed": false,
    "ExecuteTime": {
     "start_time": "2024-03-14T19:32:09.893842Z",
     "end_time": "2024-03-14T19:32:09.905488Z"
    }
   }
  },
  {
   "cell_type": "markdown",
   "source": [
    "组合数组的另一个有趣的方法是使用dstack()方法。它按索引组合数组元素，并沿深度轴堆叠它们："
   ],
   "metadata": {
    "collapsed": false
   }
  },
  {
   "cell_type": "code",
   "execution_count": 70,
   "outputs": [
    {
     "name": "stdout",
     "output_type": "stream",
     "text": [
      "Array 1 : \n",
      " [[1, 2], [3, 4]]\n",
      "Array 2 : \n",
      " [[5, 6], [7, 8]]\n",
      "Dstack : \n",
      " [[[1 5]\n",
      "  [2 6]]\n",
      "\n",
      " [[3 7]\n",
      "  [4 8]]]\n",
      "(2, 2, 2)\n"
     ]
    }
   ],
   "source": [
    "a = [[1,2],[3,4]]\n",
    "b = [[5,6],[7,8]]\n",
    "c = np.dstack((a,b))\n",
    "print('Array 1 :','\\n',a)\n",
    "print('Array 2 :','\\n',b)\n",
    "print('Dstack :','\\n',c)\n",
    "print(c.shape)"
   ],
   "metadata": {
    "collapsed": false,
    "ExecuteTime": {
     "start_time": "2024-03-14T19:33:04.748638Z",
     "end_time": "2024-03-14T19:33:05.195691Z"
    }
   }
  },
  {
   "cell_type": "markdown",
   "source": [
    "级联ndarrays\n",
    "\n",
    "虽然堆叠数组是组合旧数组以获得新数组的一种方法，但也可以使用concatenate()方法，其中传递的数组沿现有轴连接："
   ],
   "metadata": {
    "collapsed": false
   }
  },
  {
   "cell_type": "code",
   "execution_count": 71,
   "outputs": [
    {
     "name": "stdout",
     "output_type": "stream",
     "text": [
      "Array 1 : \n",
      " [[0 1 2 3 4]]\n",
      "Array 2 : \n",
      " [[5 6 7 8 9]]\n",
      "Concatenate along rows : \n",
      " [[0 1 2 3 4]\n",
      " [5 6 7 8 9]]\n",
      "Concatenate along columns : \n",
      " [[0 1 2 3 4 5 6 7 8 9]]\n"
     ]
    }
   ],
   "source": [
    "a = np.arange(0,5).reshape(1,5)\n",
    "b = np.arange(5,10).reshape(1,5)\n",
    "print('Array 1 :','\\n',a)\n",
    "print('Array 2 :','\\n',b)\n",
    "print('Concatenate along rows :','\\n',np.concatenate((a,b),axis=0))\n",
    "print('Concatenate along columns :','\\n',np.concatenate((a,b),axis=1))"
   ],
   "metadata": {
    "collapsed": false,
    "ExecuteTime": {
     "start_time": "2024-03-14T19:34:16.979325Z",
     "end_time": "2024-03-14T19:34:17.310427Z"
    }
   }
  },
  {
   "cell_type": "markdown",
   "source": [
    "另一个非常有用的函数是append方法，它将新元素添加到ndarray的末尾。当你已经有了一个现有的ndarray，但希望向其添加新值时，这显然很有用。"
   ],
   "metadata": {
    "collapsed": false
   }
  },
  {
   "cell_type": "code",
   "execution_count": 72,
   "outputs": [
    {
     "data": {
      "text/plain": "array([[1, 2],\n       [3, 4],\n       [5, 6]])"
     },
     "execution_count": 72,
     "metadata": {},
     "output_type": "execute_result"
    }
   ],
   "source": [
    "# 将值附加到ndarray\n",
    "a = np.array([[1,2],\n",
    "             [3,4]])\n",
    "np.append(a,[[5,6]], axis=0)"
   ],
   "metadata": {
    "collapsed": false,
    "ExecuteTime": {
     "start_time": "2024-03-14T19:39:12.285921Z",
     "end_time": "2024-03-14T19:39:12.852224Z"
    }
   }
  },
  {
   "cell_type": "markdown",
   "source": [
    "### Numpy数组广播\n",
    "\n",
    "广播是ndarrays最好的功能之一。它允许你在不同大小的ndarray之间或ndarray与简单数字之间执行算术运算！\n",
    "\n",
    "广播基本上延伸较小的ndarray，使其与较大ndarray的形状相匹配："
   ],
   "metadata": {
    "collapsed": false
   }
  },
  {
   "cell_type": "code",
   "execution_count": 74,
   "outputs": [
    {
     "name": "stdout",
     "output_type": "stream",
     "text": [
      "[10 12 14 16 18]\n",
      "Adding two different size arrays : \n",
      " [[12 14 16 18 20]\n",
      " [12 14 16 18 20]]\n",
      "Multiplying an ndarray and a number : [20 24 28 32 36]\n"
     ]
    }
   ],
   "source": [
    "a = np.arange(10, 20, 2)\n",
    "print(a)\n",
    "b = np.array([[2], [2]])\n",
    "print('Adding two different size arrays :','\\n',a+b)\n",
    "print('Multiplying an ndarray and a number :',a*2)"
   ],
   "metadata": {
    "collapsed": false,
    "ExecuteTime": {
     "start_time": "2024-03-14T19:43:10.283608Z",
     "end_time": "2024-03-14T19:43:10.348783Z"
    }
   }
  },
  {
   "cell_type": "markdown",
   "source": [
    "### Numpy Ufuncs\n",
    "当Python必须重复执行许多操作（比如添加两个数组）时，这个问题就会显现出来。这是因为每次需要执行操作时，Python都必须检查元素的数据类型。使用ufuncs函数的NumPy可以解决这个问题。\n",
    "\n",
    "NumPy使这个工作更快的方法是使用向量化。向量化在编译的代码中以逐元素的方式对ndarray执行相同的操作。因此，不需要每次都确定元素的数据类型，从而执行更快的操作。\n",
    "\n",
    "ufuncs 是NumPy中的通用函数，只是数学函数。它们执行快速的元素功能。当对NumPy数组执行简单的算术操作时，它们会自动调用，因为它们充当NumPy ufuncs的包装器。"
   ],
   "metadata": {
    "collapsed": false
   }
  },
  {
   "cell_type": "code",
   "execution_count": 80,
   "outputs": [
    {
     "name": "stdout",
     "output_type": "stream",
     "text": [
      "978 ns ± 206 ns per loop (mean ± std. dev. of 7 runs, 1,000,000 loops each)\n"
     ]
    }
   ],
   "source": [
    "a = np.arange(1,6)\n",
    "b = np.arange(6,11)\n",
    "%timeit a+b"
   ],
   "metadata": {
    "collapsed": false,
    "ExecuteTime": {
     "start_time": "2024-03-14T19:55:44.130342Z",
     "end_time": "2024-03-14T19:55:54.307373Z"
    }
   }
  },
  {
   "cell_type": "markdown",
   "source": [
    "### 用Numpy数组进行计算\n",
    "下面是一些最重要和最有用的操作，你将需要在你的NumPy数组上执行这些操作。\n",
    "\n",
    "NumPy数组的基本运算\n",
    "\n",
    "基本的算术运算可以很容易地在NumPy数组上执行。要记住的重要一点是，这些简单的算术运算符号只是作为NumPy ufuncs的包装器。"
   ],
   "metadata": {
    "collapsed": false
   }
  },
  {
   "cell_type": "code",
   "execution_count": 81,
   "outputs": [
    {
     "name": "stdout",
     "output_type": "stream",
     "text": [
      "Subtract : [-4 -3 -2 -1  0]\n",
      "Multiply : [ 5 10 15 20 25]\n",
      "Divide : [0.2 0.4 0.6 0.8 1. ]\n",
      "Power : [ 1  4  9 16 25]\n",
      "Remainder : [1 2 3 4 0]\n"
     ]
    }
   ],
   "source": [
    "print('Subtract :',a-5)\n",
    "print('Multiply :',a*5)\n",
    "print('Divide :',a/5)\n",
    "print('Power :',a**2)\n",
    "print('Remainder :',a%5)"
   ],
   "metadata": {
    "collapsed": false,
    "ExecuteTime": {
     "start_time": "2024-03-14T19:55:54.311373Z",
     "end_time": "2024-03-14T19:55:54.318066Z"
    }
   }
  },
  {
   "cell_type": "markdown",
   "source": [
    "平均值、标准差和中位数\n",
    "\n",
    "要查找NumPy数组的平均值和标准偏差，请使用mean()、std()和median()方法："
   ],
   "metadata": {
    "collapsed": false
   }
  },
  {
   "cell_type": "code",
   "execution_count": 82,
   "outputs": [
    {
     "name": "stdout",
     "output_type": "stream",
     "text": [
      "Mean : 9.0\n",
      "Standard deviation : 2.8284271247461903\n",
      "Median : 9.0\n"
     ]
    }
   ],
   "source": [
    "a = np.arange(5,15,2)\n",
    "print('Mean :',np.mean(a))\n",
    "print('Standard deviation :',np.std(a))\n",
    "print('Median :',np.median(a))"
   ],
   "metadata": {
    "collapsed": false,
    "ExecuteTime": {
     "start_time": "2024-03-14T20:08:23.122231Z",
     "end_time": "2024-03-14T20:08:23.322314Z"
    }
   }
  },
  {
   "cell_type": "markdown",
   "source": [
    "最小最大值及其索引\n",
    "\n",
    "使用Min()和Max()方法可以轻松找到ndarray中的Min和Max值："
   ],
   "metadata": {
    "collapsed": false
   }
  },
  {
   "cell_type": "code",
   "execution_count": 83,
   "outputs": [
    {
     "name": "stdout",
     "output_type": "stream",
     "text": [
      "Min : [1 3]\n",
      "Max : [6 4]\n"
     ]
    }
   ],
   "source": [
    "a = np.array([[1,6],\n",
    "[4,3]])\n",
    "# 最小值\n",
    "print('Min :',np.min(a,axis=0))\n",
    "# 最大值\n",
    "print('Max :',np.max(a,axis=1))"
   ],
   "metadata": {
    "collapsed": false,
    "ExecuteTime": {
     "start_time": "2024-03-14T20:09:26.284687Z",
     "end_time": "2024-03-14T20:09:26.338856Z"
    }
   }
  },
  {
   "cell_type": "markdown",
   "source": [
    "还可以使用argmin()和argmax()方法轻松确定ndarray中沿特定轴的最小值或最大值的索引："
   ],
   "metadata": {
    "collapsed": false
   }
  },
  {
   "cell_type": "code",
   "execution_count": 84,
   "outputs": [
    {
     "name": "stdout",
     "output_type": "stream",
     "text": [
      "Min : [0 1 0]\n",
      "Max : [1 2]\n"
     ]
    }
   ],
   "source": [
    "a = np.array([[1,6,5],\n",
    "[4,3,7]])\n",
    "# 最小值\n",
    "print('Min :',np.argmin(a,axis=0))\n",
    "# 最大值\n",
    "print('Max :',np.argmax(a,axis=1))\n",
    "# 让我给你把输出分解一下。第一列的最小值是该列的第一个元素。对于第二列，它是第二个元素。对于第三列，它是第一个元素。类似地，你可以确定最大值的输出指示什么。"
   ],
   "metadata": {
    "collapsed": false,
    "ExecuteTime": {
     "start_time": "2024-03-14T20:10:11.911211Z",
     "end_time": "2024-03-14T20:10:12.262383Z"
    }
   }
  },
  {
   "cell_type": "markdown",
   "source": [
    "### 在Numpy数组中排序"
   ],
   "metadata": {
    "collapsed": false
   }
  },
  {
   "cell_type": "code",
   "execution_count": 85,
   "outputs": [
    {
     "data": {
      "text/plain": "array([1, 2, 3, 4, 5, 6, 7, 8, 9])"
     },
     "execution_count": 85,
     "metadata": {},
     "output_type": "execute_result"
    }
   ],
   "source": [
    "a = np.array([1,4,2,5,3,6,8,7,9])\n",
    "np.sort(a, kind='quicksort')"
   ],
   "metadata": {
    "collapsed": false,
    "ExecuteTime": {
     "start_time": "2024-03-14T20:12:09.865807Z",
     "end_time": "2024-03-14T20:12:09.925887Z"
    }
   }
  },
  {
   "cell_type": "code",
   "execution_count": 86,
   "outputs": [
    {
     "name": "stdout",
     "output_type": "stream",
     "text": [
      "Sort along column : \n",
      " [[4 5 6 7]\n",
      " [2 3 7 9]]\n",
      "Sort along row : \n",
      " [[5 2 3 4]\n",
      " [9 6 7 7]]\n"
     ]
    }
   ],
   "source": [
    "a = np.array([[5,6,7,4],\n",
    "              [9,2,3,7]])# 沿列排序\n",
    "print('Sort along column :','\\n',np.sort(a, kind='mergresort',axis=1))\n",
    "# 沿行排序\n",
    "print('Sort along row :','\\n',np.sort(a, kind='mergresort',axis=0))"
   ],
   "metadata": {
    "collapsed": false,
    "ExecuteTime": {
     "start_time": "2024-03-14T20:12:28.119760Z",
     "end_time": "2024-03-14T20:12:28.209777Z"
    }
   }
  },
  {
   "cell_type": "markdown",
   "source": [
    "### Numpy数组与图像\n",
    "NumPy数组在存储和操作图像数据方面有着广泛的用途。但图像数据到底是什么呢？\n",
    "\n",
    "图像由以数组形式存储的像素组成。每个像素的值介于0到255之间–0表示黑色像素，255表示白色像素。\n",
    "\n",
    "彩色图像由三个二维数组组成，每个彩色通道一个：红色、绿色和蓝色，背靠背放置，从而形成三维数组。数组中的每个值构成一个像素值。因此，数组的大小取决于每个维度上的像素数。\n",
    "\n",
    "Python可以使用scipy.misc.imread()方法（SciPy库中的方法）。当我们输出它时，它只是一个包含像素值的三维数组："
   ],
   "metadata": {
    "collapsed": false
   }
  },
  {
   "cell_type": "code",
   "execution_count": 90,
   "outputs": [
    {
     "data": {
      "text/plain": "array([[[0.44313726, 0.40784314, 0.25490198],\n        [0.4392157 , 0.40392157, 0.2509804 ],\n        [0.43529412, 0.4       , 0.24705882],\n        ...,\n        [0.62352943, 0.5372549 , 0.14117648],\n        [0.62352943, 0.5372549 , 0.14117648],\n        [0.62352943, 0.5372549 , 0.14117648]],\n\n       [[0.45490196, 0.41960785, 0.26666668],\n        [0.4509804 , 0.41568628, 0.2627451 ],\n        [0.44705883, 0.4117647 , 0.25882354],\n        ...,\n        [0.6156863 , 0.5294118 , 0.14117648],\n        [0.61960787, 0.53333336, 0.14509805],\n        [0.61960787, 0.53333336, 0.14509805]],\n\n       [[0.47058824, 0.43137255, 0.2901961 ],\n        [0.46666667, 0.42745098, 0.28627452],\n        [0.4627451 , 0.42352942, 0.28235295],\n        ...,\n        [0.5921569 , 0.5137255 , 0.13333334],\n        [0.59607846, 0.5176471 , 0.13725491],\n        [0.59607846, 0.5176471 , 0.13725491]],\n\n       ...,\n\n       [[0.15294118, 0.16862746, 0.20392157],\n        [0.15294118, 0.16862746, 0.20392157],\n        [0.15294118, 0.16862746, 0.20392157],\n        ...,\n        [0.1254902 , 0.1254902 , 0.16470589],\n        [0.1254902 , 0.1254902 , 0.16470589],\n        [0.1254902 , 0.1254902 , 0.16470589]],\n\n       [[0.16078432, 0.1764706 , 0.21176471],\n        [0.16078432, 0.1764706 , 0.21176471],\n        [0.16078432, 0.1764706 , 0.21176471],\n        ...,\n        [0.1254902 , 0.13333334, 0.18039216],\n        [0.1254902 , 0.13333334, 0.18039216],\n        [0.12156863, 0.12941177, 0.1764706 ]],\n\n       [[0.17254902, 0.1882353 , 0.22352941],\n        [0.17254902, 0.1882353 , 0.22352941],\n        [0.17254902, 0.1882353 , 0.22352941],\n        ...,\n        [0.1254902 , 0.13333334, 0.18039216],\n        [0.1254902 , 0.13333334, 0.18039216],\n        [0.12156863, 0.12941177, 0.1764706 ]]], dtype=float32)"
     },
     "execution_count": 90,
     "metadata": {},
     "output_type": "execute_result"
    }
   ],
   "source": [
    "import numpy as np\n",
    "import matplotlib.pyplot as plt\n",
    "import matplotlib.image as mpimg\n",
    "\n",
    "# 读取图像\n",
    "image = mpimg.imread('img.png')\n",
    "# 图像\n",
    "image"
   ],
   "metadata": {
    "collapsed": false,
    "ExecuteTime": {
     "start_time": "2024-03-14T20:20:12.322863Z",
     "end_time": "2024-03-14T20:20:12.373121Z"
    }
   }
  },
  {
   "cell_type": "code",
   "execution_count": 92,
   "outputs": [
    {
     "name": "stdout",
     "output_type": "stream",
     "text": [
      "(450, 800, 3)\n",
      "<class 'numpy.ndarray'>\n"
     ]
    }
   ],
   "source": [
    "# 检查数组和类型\n",
    "print(image.shape)\n",
    "print(type(image))"
   ],
   "metadata": {
    "collapsed": false,
    "ExecuteTime": {
     "start_time": "2024-03-14T20:21:02.670821Z",
     "end_time": "2024-03-14T20:21:02.691175Z"
    }
   }
  },
  {
   "cell_type": "code",
   "execution_count": 94,
   "outputs": [
    {
     "data": {
      "text/plain": "<matplotlib.image.AxesImage at 0x22f743b4bd0>"
     },
     "execution_count": 94,
     "metadata": {},
     "output_type": "execute_result"
    },
    {
     "data": {
      "text/plain": "<Figure size 640x480 with 1 Axes>",
      "image/png": "[encoded data removed]"
     },
     "metadata": {},
     "output_type": "display_data"
    }
   ],
   "source": [
    "# 翻转\n",
    "plt.imshow(np.flip(image, axis=1))"
   ],
   "metadata": {
    "collapsed": false,
    "ExecuteTime": {
     "start_time": "2024-03-14T20:21:19.615821Z",
     "end_time": "2024-03-14T20:21:22.319719Z"
    }
   }
  },
  {
   "cell_type": "code",
   "execution_count": null,
   "outputs": [],
   "source": [],
   "metadata": {
    "collapsed": false
   }
  }
 ],
 "metadata": {
  "kernelspec": {
   "display_name": "Python 3",
   "language": "python",
   "name": "python3"
  },
  "language_info": {
   "codemirror_mode": {
    "name": "ipython",
    "version": 2
   },
   "file_extension": ".py",
   "mimetype": "text/x-python",
   "name": "python",
   "nbconvert_exporter": "python",
   "pygments_lexer": "ipython2",
   "version": "2.7.6"
  }
 },
 "nbformat": 4,
 "nbformat_minor": 0
}
