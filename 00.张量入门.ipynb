{
 "cells": [
  {
   "cell_type": "markdown",
   "source": [
    "# 第一周 Pytorch中张量应用"
   ],
   "metadata": {
    "collapsed": false
   }
  },
  {
   "cell_type": "markdown",
   "source": [
    "### 根据传入的参数，自动指定类型"
   ],
   "metadata": {
    "collapsed": false
   }
  },
  {
   "cell_type": "code",
   "execution_count": 1,
   "outputs": [
    {
     "name": "stdout",
     "output_type": "stream",
     "text": [
      "tensor(1) torch.int64\n",
      "tensor(2.) torch.float32\n",
      "tensor(True) torch.bool\n"
     ]
    }
   ],
   "source": [
    "# 可以通过传入的数据，自动判断类型\n",
    "import numpy as np\n",
    "import torch\n",
    "# 自动推断数据类型\n",
    "i = torch.tensor(1)\n",
    "print(i,i.dtype) # tensor(1) torch.int64\n",
    "x = torch.tensor(2.0)\n",
    "print(x,x.dtype) # tensor(2.) torch.float32\n",
    "b = torch.tensor(True)\n",
    "print(b,b.dtype) # tensor(True) torch.bool"
   ],
   "metadata": {
    "collapsed": false,
    "ExecuteTime": {
     "start_time": "2024-03-05T17:15:13.056283Z",
     "end_time": "2024-03-05T17:15:15.785387Z"
    }
   }
  },
  {
   "cell_type": "markdown",
   "source": [
    "### 指定张量的类型"
   ],
   "metadata": {
    "collapsed": false
   }
  },
  {
   "cell_type": "code",
   "execution_count": 2,
   "outputs": [
    {
     "name": "stdout",
     "output_type": "stream",
     "text": [
      "tensor(1, dtype=torch.int32) torch.int32\n",
      "tensor(2., dtype=torch.float64) torch.float64\n"
     ]
    }
   ],
   "source": [
    "# 指定数据类型\n",
    "i = torch.tensor(1,dtype = torch.int32)\n",
    "print(i,i.dtype) # tensor(1, dtype=torch.int32) torch.int32\n",
    "x = torch.tensor(2.0,dtype = torch.double)\n",
    "print(x,x.dtype) # tensor(2., dtype=torch.float64) torch.float64"
   ],
   "metadata": {
    "collapsed": false,
    "ExecuteTime": {
     "start_time": "2024-03-05T17:16:46.409048Z",
     "end_time": "2024-03-05T17:16:46.419460Z"
    }
   }
  },
  {
   "cell_type": "markdown",
   "source": [
    "### 使用特定类型的构造函数"
   ],
   "metadata": {
    "collapsed": false
   }
  },
  {
   "cell_type": "code",
   "execution_count": 3,
   "outputs": [
    {
     "name": "stdout",
     "output_type": "stream",
     "text": [
      "tensor([0], dtype=torch.int32) torch.int32\n",
      "tensor(2.) torch.float32\n",
      "tensor([ True, False,  True, False]) torch.bool\n"
     ]
    }
   ],
   "source": [
    "i = torch.IntTensor(1)\n",
    "print(i,i.dtype) # tensor([5], dtype=torch.int32) torch.int32\n",
    "x = torch.Tensor(np.array(2.0))\n",
    "print(x,x.dtype) #等价于torch.FloatTensor\n",
    "b = torch.BoolTensor(np.array([1,0,2,0]))\n",
    "print(b,b.dtype) # tensor([ True, False, True, False]) torch.bool"
   ],
   "metadata": {
    "collapsed": false,
    "ExecuteTime": {
     "start_time": "2024-03-05T17:19:13.589597Z",
     "end_time": "2024-03-05T17:19:13.754345Z"
    }
   }
  },
  {
   "cell_type": "markdown",
   "source": [
    "### 不同类型进行转换"
   ],
   "metadata": {
    "collapsed": false
   }
  },
  {
   "cell_type": "code",
   "execution_count": 4,
   "outputs": [
    {
     "name": "stdout",
     "output_type": "stream",
     "text": [
      "tensor(1) torch.int64\n",
      "tensor(1.) torch.float32\n",
      "tensor(1.) torch.float32\n",
      "tensor(1.) torch.float32\n"
     ]
    }
   ],
   "source": [
    "i = torch.tensor(1)\n",
    "print(i,i.dtype) # tensor(1) torch.int64\n",
    "x = i.float()\n",
    "print(x,x.dtype) #调用 float方法转换成浮点类型 tensor(1.) torch.float32\n",
    "y = i.type(torch.float)\n",
    "print(y,y.dtype) #使用type函数转换成浮点类型 tensor(1.) torch.float32\n",
    "z = i.type_as(x)\n",
    "print(z,z.dtype) #使用type_as方法转换成某个Tensor相同类型 tensor(1.) torch.float32"
   ],
   "metadata": {
    "collapsed": false,
    "ExecuteTime": {
     "start_time": "2024-03-05T17:20:38.071535Z",
     "end_time": "2024-03-05T17:20:38.084294Z"
    }
   }
  },
  {
   "cell_type": "markdown",
   "source": [
    "### 张量的创建"
   ],
   "metadata": {
    "collapsed": false
   }
  },
  {
   "cell_type": "code",
   "execution_count": 6,
   "outputs": [
    {
     "name": "stdout",
     "output_type": "stream",
     "text": [
      "tensor([[3.1346e-25, 1.6675e-42, 0.0000e+00],\n",
      "        [0.0000e+00, 0.0000e+00, 0.0000e+00],\n",
      "        [0.0000e+00, 0.0000e+00, 0.0000e+00],\n",
      "        [0.0000e+00, 0.0000e+00, 0.0000e+00],\n",
      "        [0.0000e+00, 0.0000e+00, 0.0000e+00]])\n",
      "tensor([[0.6892, 0.5280, 0.7956],\n",
      "        [0.0280, 0.9468, 0.9334],\n",
      "        [0.3546, 0.8401, 0.1601],\n",
      "        [0.8537, 0.9223, 0.6289],\n",
      "        [0.8740, 0.6019, 0.4353]])\n",
      "tensor([[ 0.5404, -0.5044,  1.2821],\n",
      "        [-0.2776,  0.6237,  1.0507],\n",
      "        [ 0.2717,  0.2378,  0.9839],\n",
      "        [-1.4353, -0.6900,  0.2245],\n",
      "        [ 0.1849, -0.6874,  0.2157]])\n",
      "tensor([[0, 0, 0],\n",
      "        [0, 0, 0],\n",
      "        [0, 0, 0],\n",
      "        [0, 0, 0],\n",
      "        [0, 0, 0]])\n",
      "tensor([[1., 1., 1.],\n",
      "        [1., 1., 1.],\n",
      "        [1., 1., 1.],\n",
      "        [1., 1., 1.],\n",
      "        [1., 1., 1.]])\n"
     ]
    }
   ],
   "source": [
    "x = torch.empty(5,3)\n",
    "print(x)\n",
    "x = torch.rand(5,3) ## 平均分布\n",
    "print(x)\n",
    "x = torch.randn(5,3) ## 标准正态分布\n",
    "print(x)\n",
    "x = torch.zeros(5,3,dtype=torch.long)\n",
    "print(x)\n",
    "x = torch.ones(5,3) ## 全部都是1 , 构建一个5行3列的矩阵\n",
    "print(x)"
   ],
   "metadata": {
    "collapsed": false,
    "ExecuteTime": {
     "start_time": "2024-03-05T17:23:26.054208Z",
     "end_time": "2024-03-05T17:23:26.064340Z"
    }
   }
  },
  {
   "cell_type": "markdown",
   "source": [
    "###  4维张量"
   ],
   "metadata": {
    "collapsed": false
   }
  },
  {
   "cell_type": "code",
   "execution_count": 7,
   "outputs": [
    {
     "name": "stdout",
     "output_type": "stream",
     "text": [
      "tensor([[[[1., 1.],\n",
      "          [2., 2.]],\n",
      "\n",
      "         [[3., 3.],\n",
      "          [4., 4.]]],\n",
      "\n",
      "\n",
      "        [[[5., 5.],\n",
      "          [6., 6.]],\n",
      "\n",
      "         [[7., 7.],\n",
      "          [8., 8.]]]])\n",
      "4\n"
     ]
    }
   ],
   "source": [
    "tensor4 = torch.tensor([[[[1.0,1.0],[2.0,2.0]],[[3.0,3.0],[4.0,4.0]]],\n",
    "[[[5.0,5.0],[6.0,6.0]],[[7.0,7.0],[8.0,8.0]]]]) # 4维张量\n",
    "print(tensor4)\n",
    "print(tensor4.dim())"
   ],
   "metadata": {
    "collapsed": false,
    "ExecuteTime": {
     "start_time": "2024-03-05T17:28:15.080246Z",
     "end_time": "2024-03-05T17:28:15.130095Z"
    }
   }
  },
  {
   "cell_type": "markdown",
   "source": [
    "### 张量的三个属性\n",
    "*  阶（rank）：维度. tensor.dim()\n",
    "* 尺寸/形状（shape）： 行和列的数目. tensor.shape/tensor.size()\n",
    "* 类型（type）： 元素的数据类型. tensor.type()"
   ],
   "metadata": {
    "collapsed": false
   }
  },
  {
   "cell_type": "markdown",
   "source": [
    "###  使用view改变张量尺寸"
   ],
   "metadata": {
    "collapsed": false
   }
  },
  {
   "cell_type": "code",
   "execution_count": 8,
   "outputs": [
    {
     "name": "stdout",
     "output_type": "stream",
     "text": [
      "tensor([ 0,  1,  2,  3,  4,  5,  6,  7,  8,  9, 10, 11])\n",
      "torch.Size([12])\n",
      "tensor([[ 0,  1,  2,  3],\n",
      "        [ 4,  5,  6,  7],\n",
      "        [ 8,  9, 10, 11]])\n",
      "torch.Size([3, 4])\n",
      "tensor([[ 0,  1,  2],\n",
      "        [ 3,  4,  5],\n",
      "        [ 6,  7,  8],\n",
      "        [ 9, 10, 11]])\n",
      "torch.Size([4, 3])\n"
     ]
    }
   ],
   "source": [
    "vector = torch.arange(0,12)\n",
    "print(vector) # tensor([ 0, 1, 2, 3, 4, 5, 6, 7, 8, 9, 10, 11])\n",
    "print(vector.shape) #torch.Size([12])\n",
    "matrix34 = vector.view(3,4)\n",
    "print(matrix34)\n",
    "print(matrix34.shape) # torch.Size([3, 4])\n",
    "matrix43 = vector.view(4,-1) #-1表示该位置长度由程序自动推断\n",
    "print(matrix43)\n",
    "print(matrix43.shape) # torch.Size([4, 3])"
   ],
   "metadata": {
    "collapsed": false,
    "ExecuteTime": {
     "start_time": "2024-03-05T17:33:25.398423Z",
     "end_time": "2024-03-05T17:33:25.498432Z"
    }
   }
  },
  {
   "cell_type": "markdown",
   "source": [
    "### 使用reshape改变张量尺寸\n",
    "* 有些操作会让张量存储结构扭曲，直接使用view会失败，可以用reshape方法"
   ],
   "metadata": {
    "collapsed": false
   }
  },
  {
   "cell_type": "code",
   "execution_count": 9,
   "outputs": [
    {
     "name": "stdout",
     "output_type": "stream",
     "text": [
      "tensor([[ 0,  1,  2,  3,  4,  5],\n",
      "        [ 6,  7,  8,  9, 10, 11]])\n",
      "torch.Size([2, 6])\n",
      "False\n",
      "tensor([[ 0,  6,  1,  7],\n",
      "        [ 2,  8,  3,  9],\n",
      "        [ 4, 10,  5, 11]])\n"
     ]
    }
   ],
   "source": [
    "matrix26 = torch.arange(0,12).view(2,6)\n",
    "print(matrix26)\n",
    "# tensor([[ 0, 1, 2, 3, 4, 5],\n",
    "# [ 6, 7, 8, 9, 10, 11]])\n",
    "print(matrix26.shape) #torch.Size([2, 6])\n",
    "# 转置操作让张量存储结构扭曲,变成不连续的\n",
    "matrix62 = matrix26.t()\n",
    "print(matrix62.is_contiguous())\n",
    "# 直接使用view方法会失败，可以使用reshape方法\n",
    "#matrix34 = matrix62.view(3,4) #error!\n",
    "matrix34 = matrix62.reshape(3,4) #等价于matrix34 = matrix62.contiguous().view(3,4)\n",
    "print(matrix34)"
   ],
   "metadata": {
    "collapsed": false,
    "ExecuteTime": {
     "start_time": "2024-03-05T17:35:42.809990Z",
     "end_time": "2024-03-05T17:35:42.833680Z"
    }
   }
  },
  {
   "cell_type": "markdown",
   "source": [
    "## 张量的基本运算"
   ],
   "metadata": {
    "collapsed": false
   }
  },
  {
   "cell_type": "code",
   "execution_count": 11,
   "outputs": [
    {
     "name": "stdout",
     "output_type": "stream",
     "text": [
      "tensor([[1.3079, 1.1704, 1.3633],\n",
      "        [0.4727, 1.3586, 1.6653],\n",
      "        [1.3894, 0.2370, 1.0784],\n",
      "        [1.0565, 1.4052, 1.4497],\n",
      "        [1.3595, 1.0925, 1.2889]])\n",
      "tensor([[1.3079, 1.1704, 1.3633],\n",
      "        [0.4727, 1.3586, 1.6653],\n",
      "        [1.3894, 0.2370, 1.0784],\n",
      "        [1.0565, 1.4052, 1.4497],\n",
      "        [1.3595, 1.0925, 1.2889]])\n",
      "tensor([[1.3079, 1.1704, 1.3633],\n",
      "        [0.4727, 1.3586, 1.6653],\n",
      "        [1.3894, 0.2370, 1.0784],\n",
      "        [1.0565, 1.4052, 1.4497],\n",
      "        [1.3595, 1.0925, 1.2889]])\n",
      "tensor([[3., 3.],\n",
      "        [3., 3.]])\n",
      "tensor([[1., 1.],\n",
      "        [1., 1.]])\n"
     ]
    }
   ],
   "source": [
    "# 将对应元素相加\n",
    "x = torch.rand(5,3)\n",
    "y = torch.rand(5,3)\n",
    "print(x+y)\n",
    "print(torch.add(x,y))\n",
    "result = torch.empty(5,3)\n",
    "torch.add(x,y,out=result)\n",
    "y.add_(x)\n",
    "print(y)\n",
    "# x中的每个元素都加上2\n",
    "x = torch.ones(2,2)\n",
    "y = x+2\n",
    "print(y)\n",
    "# 对应元素相乘\n",
    "x = torch.ones(2,2)\n",
    "y = torch.ones(2,2)\n",
    "z = x*y\n",
    "print(z)"
   ],
   "metadata": {
    "collapsed": false,
    "ExecuteTime": {
     "start_time": "2024-03-05T18:25:17.025507Z",
     "end_time": "2024-03-05T18:25:17.047547Z"
    }
   }
  },
  {
   "cell_type": "markdown",
   "source": [
    "### 张量的高级运算"
   ],
   "metadata": {
    "collapsed": false
   }
  },
  {
   "cell_type": "code",
   "execution_count": 12,
   "outputs": [
    {
     "name": "stdout",
     "output_type": "stream",
     "text": [
      "-0.04938589408993721\n"
     ]
    }
   ],
   "source": [
    "x = torch.randn(5,3)\n",
    "y = x.mean()\n",
    "print(y.item())\n",
    "# 计算x中所有元素的均值，然后打印均值"
   ],
   "metadata": {
    "collapsed": false,
    "ExecuteTime": {
     "start_time": "2024-03-05T18:26:24.865412Z",
     "end_time": "2024-03-05T18:26:24.880313Z"
    }
   }
  },
  {
   "cell_type": "code",
   "execution_count": 13,
   "outputs": [
    {
     "name": "stdout",
     "output_type": "stream",
     "text": [
      "tensor(6.4355)\n"
     ]
    }
   ],
   "source": [
    "x = torch.rand(5,3)\n",
    "print(x.sum())\n",
    "# 计算得到总和"
   ],
   "metadata": {
    "collapsed": false,
    "ExecuteTime": {
     "start_time": "2024-03-05T18:26:59.745993Z",
     "end_time": "2024-03-05T18:26:59.770876Z"
    }
   }
  },
  {
   "cell_type": "code",
   "execution_count": 16,
   "outputs": [
    {
     "name": "stdout",
     "output_type": "stream",
     "text": [
      "torch.Size([50, 2])\n",
      "torch.Size([50, 1])\n",
      "torch.Size([2, 1])\n"
     ]
    }
   ],
   "source": [
    "# @是用来对tensor进行矩阵相乘的：\n",
    "import torch\n",
    "d = 2\n",
    "n=50\n",
    "X = torch.randn(n,d)\n",
    "true_w = torch.tensor([[-1.0],[2.0]])\n",
    "y = X @ true_w + torch.randn(n,1)*0.1\n",
    "print(X.shape)\n",
    "print(y.shape)\n",
    "print(true_w.shape)"
   ],
   "metadata": {
    "collapsed": false,
    "ExecuteTime": {
     "start_time": "2024-03-05T18:30:35.129233Z",
     "end_time": "2024-03-05T18:30:35.167290Z"
    }
   }
  },
  {
   "cell_type": "markdown",
   "source": [
    "#### 两个张量对应元素相乘，在PyTorch中可以通过torch.mul函数（或*运算符）实现；"
   ],
   "metadata": {
    "collapsed": false
   }
  },
  {
   "cell_type": "code",
   "execution_count": 17,
   "outputs": [
    {
     "name": "stdout",
     "output_type": "stream",
     "text": [
      "x_shape torch.Size([2, 2])\n",
      "y_shape torch.Size([2, 2])\n",
      "c_shape torch.Size([2, 2])\n",
      "tensor([[ 2,  2],\n",
      "        [12, 12]])\n"
     ]
    }
   ],
   "source": [
    "# *用来对tensor进行矩阵进行逐元素相乘：\n",
    "x = torch.tensor([[1,2],[3,4]])\n",
    "y = torch.tensor([[2,1],[4,3]])\n",
    "c = x*y\n",
    "print(\"x_shape\",x.shape)\n",
    "print(\"y_shape\",y.shape)\n",
    "print(\"c_shape\",c.shape)\n",
    "print(c)"
   ],
   "metadata": {
    "collapsed": false,
    "ExecuteTime": {
     "start_time": "2024-03-05T18:30:37.184336Z",
     "end_time": "2024-03-05T18:30:37.193864Z"
    }
   }
  },
  {
   "cell_type": "markdown",
   "source": [
    "#### 两个张量矩阵相乘，在PyTorch中可以通过torch.matmul函数实现"
   ],
   "metadata": {
    "collapsed": false
   }
  },
  {
   "cell_type": "code",
   "execution_count": 19,
   "outputs": [
    {
     "name": "stdout",
     "output_type": "stream",
     "text": [
      "tensor([[10,  7],\n",
      "        [22, 15]])\n"
     ]
    }
   ],
   "source": [
    "d=torch.matmul(x, y)\n",
    "print(d)"
   ],
   "metadata": {
    "collapsed": false,
    "ExecuteTime": {
     "start_time": "2024-03-05T18:30:51.935513Z",
     "end_time": "2024-03-05T18:30:51.956425Z"
    }
   }
  },
  {
   "cell_type": "markdown",
   "source": [
    "### Tensor与Numpy的互相转换操作\n",
    "#### numpy => Tensor"
   ],
   "metadata": {
    "collapsed": false
   }
  },
  {
   "cell_type": "code",
   "execution_count": 20,
   "outputs": [
    {
     "name": "stdout",
     "output_type": "stream",
     "text": [
      "before add 1:\n",
      "[0. 0. 0.]\n",
      "tensor([0., 0., 0.], dtype=torch.float64)\n",
      "\n",
      "after add 1:\n",
      "[1. 1. 1.]\n",
      "tensor([1., 1., 1.], dtype=torch.float64)\n"
     ]
    }
   ],
   "source": [
    "#torch.from_numpy函数从numpy数组得到Tensor\n",
    "arr = np.zeros(3)\n",
    "tensor = torch.from_numpy(arr)\n",
    "print(\"before add 1:\")\n",
    "print(arr)\n",
    "print(tensor)\n",
    "print(\"\\nafter add 1:\")\n",
    "np.add(arr,1, out = arr) #给 arr增加1，tensor也随之改变\n",
    "print(arr)\n",
    "print(tensor)"
   ],
   "metadata": {
    "collapsed": false,
    "ExecuteTime": {
     "start_time": "2024-03-05T18:33:28.268158Z",
     "end_time": "2024-03-05T18:33:28.564656Z"
    }
   }
  },
  {
   "cell_type": "markdown",
   "source": [
    "#### Tensor=>numpy"
   ],
   "metadata": {
    "collapsed": false
   }
  },
  {
   "cell_type": "code",
   "execution_count": 21,
   "outputs": [
    {
     "name": "stdout",
     "output_type": "stream",
     "text": [
      "before add 1:\n",
      "tensor([0., 0., 0.])\n",
      "[0. 0. 0.]\n",
      "\n",
      "after add 1:\n",
      "tensor([1., 1., 1.])\n",
      "[1. 1. 1.]\n"
     ]
    }
   ],
   "source": [
    "# numpy方法从Tensor得到numpy数组\n",
    "tensor = torch.zeros(3)\n",
    "arr = tensor.numpy()\n",
    "print(\"before add 1:\")\n",
    "print(tensor)\n",
    "print(arr)\n",
    "print(\"\\nafter add 1:\")\n",
    "#使用带下划线的方法表示计算结果会返回给调用 张量\n",
    "tensor.add_(1) #给 tensor增加1，arr也随之改变\n",
    "#或： torch.add(tensor,1,out = tensor)\n",
    "print(tensor)\n",
    "print(arr)\n",
    "# before add 1:\n",
    "# tensor([0., 0., 0.])\n",
    "# [0. 0. 0.]"
   ],
   "metadata": {
    "collapsed": false,
    "ExecuteTime": {
     "start_time": "2024-03-05T18:35:41.860997Z",
     "end_time": "2024-03-05T18:35:41.889472Z"
    }
   }
  },
  {
   "cell_type": "markdown",
   "source": [
    "### Tensor 的降维和增维操作\n",
    "Tensor关于维度的操作有很多，比如降维（torch.squeeze( )）和\n",
    "增维（torch.unsqueeze( )），张量拼接（torch.cat( )）、张量扩\n",
    "大（torch.Tensor.expand( )）、张量缩小（torch.Tensor.narrow( )）\n",
    "等等。"
   ],
   "metadata": {
    "collapsed": false
   }
  },
  {
   "cell_type": "markdown",
   "source": [
    "####  Tensor 的裁剪操作\n",
    "* clamp(x, min, max)\n",
    "* 对Tensor中的元素进行范围过滤，不符合条件的可以\n",
    "把它变换到范围内部（边界）上，常用于梯度裁剪\n",
    "（gradient clipping），即在发生梯度离散或者梯度\n",
    "爆炸时对梯度的处理。\n",
    "* x是一个Tensor，min、max是两个标量，\n",
    "* 如果x<min，返回min；\n",
    "* 如果min<x<max，返回x；\n",
    "* 如果x>max，返回max。"
   ],
   "metadata": {
    "collapsed": false
   }
  },
  {
   "cell_type": "code",
   "execution_count": 24,
   "outputs": [
    {
     "name": "stdout",
     "output_type": "stream",
     "text": [
      "tensor([1., 1., 1., 1., 1., 1., 1., 1., 1., 1., 1., 1., 1., 1., 1., 1.])\n"
     ]
    }
   ],
   "source": [
    "# view/reshape参数为负数指不定长度，以真实数据长度补齐\n",
    "x = torch.ones(4, 4)\n",
    "y = x.view(-1)\n",
    "print(y)"
   ],
   "metadata": {
    "collapsed": false,
    "ExecuteTime": {
     "start_time": "2024-03-05T18:59:54.269319Z",
     "end_time": "2024-03-05T18:59:54.284781Z"
    }
   }
  },
  {
   "cell_type": "code",
   "execution_count": 27,
   "outputs": [
    {
     "name": "stdout",
     "output_type": "stream",
     "text": [
      "tensor([[0.3045, 0.3318, 0.7618, 0.4054, 0.8656],\n",
      "        [0.3469, 0.4011, 0.8867, 0.4568, 0.9732],\n",
      "        [0.4805, 0.5896, 1.2033, 0.6159, 1.4944],\n",
      "        [0.1208, 0.1581, 0.3228, 0.1549, 0.3317],\n",
      "        [0.3588, 0.4178, 0.9025, 0.4689, 1.0591]])\n"
     ]
    }
   ],
   "source": [
    "x = torch.rand(5, 3)\n",
    "y = torch.rand(3, 5)\n",
    "d = torch.matmul(x, y)\n",
    "print(d)"
   ],
   "metadata": {
    "collapsed": false,
    "ExecuteTime": {
     "start_time": "2024-03-05T20:23:05.963153Z",
     "end_time": "2024-03-05T20:23:05.975124Z"
    }
   }
  },
  {
   "cell_type": "code",
   "execution_count": 28,
   "outputs": [
    {
     "name": "stdout",
     "output_type": "stream",
     "text": [
      "tensor([1., 2., 3.])\n",
      "tensor([0.0000, 0.6931, 1.0986])\n"
     ]
    }
   ],
   "source": [
    "# 指数运算\n",
    "x = torch.tensor([1.0, 2.0, 3.0])\n",
    "ex = torch.exp(x)\n",
    "print(x)\n",
    "\n",
    "# 对数运算\n",
    "log_x = torch.log(x)\n",
    "print(log_x)"
   ],
   "metadata": {
    "collapsed": false,
    "ExecuteTime": {
     "start_time": "2024-03-05T20:30:26.455696Z",
     "end_time": "2024-03-05T20:30:26.496122Z"
    }
   }
  },
  {
   "cell_type": "code",
   "execution_count": null,
   "outputs": [],
   "source": [],
   "metadata": {
    "collapsed": false
   }
  }
 ],
 "metadata": {
  "kernelspec": {
   "display_name": "Python 3",
   "language": "python",
   "name": "python3"
  },
  "language_info": {
   "codemirror_mode": {
    "name": "ipython",
    "version": 2
   },
   "file_extension": ".py",
   "mimetype": "text/x-python",
   "name": "python",
   "nbconvert_exporter": "python",
   "pygments_lexer": "ipython2",
   "version": "2.7.6"
  }
 },
 "nbformat": 4,
 "nbformat_minor": 0
}
